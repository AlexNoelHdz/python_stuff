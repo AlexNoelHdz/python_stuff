{
 "cells": [
  {
   "cell_type": "code",
   "execution_count": 1,
   "id": "3696cff2",
   "metadata": {},
   "outputs": [],
   "source": [
    "#Conversiones_tipos_datos"
   ]
  },
  {
   "cell_type": "code",
   "execution_count": 2,
   "id": "774b8831",
   "metadata": {},
   "outputs": [],
   "source": [
    "numero = 5\n",
    "cadena = str(numero)"
   ]
  },
  {
   "cell_type": "code",
   "execution_count": 3,
   "id": "e37699f8",
   "metadata": {},
   "outputs": [
    {
     "data": {
      "text/plain": [
       "'5'"
      ]
     },
     "execution_count": 3,
     "metadata": {},
     "output_type": "execute_result"
    }
   ],
   "source": [
    "cadena"
   ]
  },
  {
   "cell_type": "code",
   "execution_count": 4,
   "id": "7f6834e3",
   "metadata": {},
   "outputs": [
    {
     "data": {
      "text/plain": [
       "str"
      ]
     },
     "execution_count": 4,
     "metadata": {},
     "output_type": "execute_result"
    }
   ],
   "source": [
    "type(cadena)"
   ]
  },
  {
   "cell_type": "code",
   "execution_count": 5,
   "id": "91c9b936",
   "metadata": {},
   "outputs": [],
   "source": [
    "cadena = '25'\n",
    "numero = int(cadena)"
   ]
  },
  {
   "cell_type": "code",
   "execution_count": 6,
   "id": "45311906",
   "metadata": {},
   "outputs": [
    {
     "data": {
      "text/plain": [
       "25"
      ]
     },
     "execution_count": 6,
     "metadata": {},
     "output_type": "execute_result"
    }
   ],
   "source": [
    "numero"
   ]
  },
  {
   "cell_type": "code",
   "execution_count": 7,
   "id": "de6d74a2",
   "metadata": {},
   "outputs": [
    {
     "data": {
      "text/plain": [
       "int"
      ]
     },
     "execution_count": 7,
     "metadata": {},
     "output_type": "execute_result"
    }
   ],
   "source": [
    "type(numero)"
   ]
  },
  {
   "cell_type": "code",
   "execution_count": 8,
   "id": "0ec9d35b",
   "metadata": {},
   "outputs": [
    {
     "data": {
      "text/plain": [
       "29"
      ]
     },
     "execution_count": 8,
     "metadata": {},
     "output_type": "execute_result"
    }
   ],
   "source": [
    "numero2 = 4\n",
    "suma = numero + numero2\n",
    "suma"
   ]
  },
  {
   "cell_type": "code",
   "execution_count": 9,
   "id": "e7a4721a",
   "metadata": {},
   "outputs": [],
   "source": [
    "cadena = '25.7'\n",
    "numero_decimal = float(cadena)"
   ]
  },
  {
   "cell_type": "code",
   "execution_count": 10,
   "id": "9a1add9c",
   "metadata": {},
   "outputs": [
    {
     "data": {
      "text/plain": [
       "25.7"
      ]
     },
     "execution_count": 10,
     "metadata": {},
     "output_type": "execute_result"
    }
   ],
   "source": [
    "numero_decimal"
   ]
  },
  {
   "cell_type": "code",
   "execution_count": 11,
   "id": "97a8d3f1",
   "metadata": {},
   "outputs": [
    {
     "data": {
      "text/plain": [
       "float"
      ]
     },
     "execution_count": 11,
     "metadata": {},
     "output_type": "execute_result"
    }
   ],
   "source": [
    "type(numero_decimal)"
   ]
  },
  {
   "cell_type": "code",
   "execution_count": 12,
   "id": "c78ac1d2",
   "metadata": {},
   "outputs": [],
   "source": [
    "numerodecimal2 = 2.3"
   ]
  },
  {
   "cell_type": "code",
   "execution_count": 15,
   "id": "df8252aa",
   "metadata": {},
   "outputs": [],
   "source": [
    "suma_decimal = numero_decimal + numerodecimal2"
   ]
  },
  {
   "cell_type": "code",
   "execution_count": 16,
   "id": "b4ed7f4e",
   "metadata": {},
   "outputs": [
    {
     "data": {
      "text/plain": [
       "28.0"
      ]
     },
     "execution_count": 16,
     "metadata": {},
     "output_type": "execute_result"
    }
   ],
   "source": [
    "suma_decimal"
   ]
  },
  {
   "cell_type": "code",
   "execution_count": 17,
   "id": "235e0517",
   "metadata": {},
   "outputs": [
    {
     "data": {
      "text/plain": [
       "float"
      ]
     },
     "execution_count": 17,
     "metadata": {},
     "output_type": "execute_result"
    }
   ],
   "source": [
    "type(suma_decimal)"
   ]
  },
  {
   "cell_type": "code",
   "execution_count": null,
   "id": "5ddf73c5",
   "metadata": {},
   "outputs": [],
   "source": []
  }
 ],
 "metadata": {
  "kernelspec": {
   "display_name": "Python 3",
   "language": "python",
   "name": "python3"
  },
  "language_info": {
   "codemirror_mode": {
    "name": "ipython",
    "version": 3
   },
   "file_extension": ".py",
   "mimetype": "text/x-python",
   "name": "python",
   "nbconvert_exporter": "python",
   "pygments_lexer": "ipython3",
   "version": "3.8.8"
  }
 },
 "nbformat": 4,
 "nbformat_minor": 5
}
