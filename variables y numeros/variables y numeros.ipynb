{
 "cells": [
  {
   "cell_type": "code",
   "execution_count": 1,
   "id": "0153ef71",
   "metadata": {},
   "outputs": [],
   "source": [
    "#variables"
   ]
  },
  {
   "cell_type": "code",
   "execution_count": 2,
   "id": "64f4da04",
   "metadata": {},
   "outputs": [],
   "source": [
    "numero = 5"
   ]
  },
  {
   "cell_type": "code",
   "execution_count": 3,
   "id": "9ca232eb",
   "metadata": {},
   "outputs": [
    {
     "data": {
      "text/plain": [
       "5"
      ]
     },
     "execution_count": 3,
     "metadata": {},
     "output_type": "execute_result"
    }
   ],
   "source": [
    "numero"
   ]
  },
  {
   "cell_type": "code",
   "execution_count": 4,
   "id": "3de1f0be",
   "metadata": {},
   "outputs": [],
   "source": [
    "cadena = \"Hola Mundo\""
   ]
  },
  {
   "cell_type": "code",
   "execution_count": 5,
   "id": "0ae474a9",
   "metadata": {},
   "outputs": [
    {
     "data": {
      "text/plain": [
       "'Hola Mundo'"
      ]
     },
     "execution_count": 5,
     "metadata": {},
     "output_type": "execute_result"
    }
   ],
   "source": [
    "cadena"
   ]
  },
  {
   "cell_type": "code",
   "execution_count": 6,
   "id": "75e439a0",
   "metadata": {},
   "outputs": [
    {
     "ename": "SyntaxError",
     "evalue": "invalid syntax (<ipython-input-6-0bbda559f4aa>, line 1)",
     "output_type": "error",
     "traceback": [
      "\u001b[1;36m  File \u001b[1;32m\"<ipython-input-6-0bbda559f4aa>\"\u001b[1;36m, line \u001b[1;32m1\u001b[0m\n\u001b[1;33m    5numero = 5 #Error de syntaxis\u001b[0m\n\u001b[1;37m     ^\u001b[0m\n\u001b[1;31mSyntaxError\u001b[0m\u001b[1;31m:\u001b[0m invalid syntax\n"
     ]
    }
   ],
   "source": [
    "5numero = 5 #Error de syntaxis"
   ]
  },
  {
   "cell_type": "code",
   "execution_count": 7,
   "id": "9b22c6a8",
   "metadata": {},
   "outputs": [],
   "source": [
    "Numero = 5\n",
    "numero = 6"
   ]
  },
  {
   "cell_type": "code",
   "execution_count": 8,
   "id": "6cdb7c3d",
   "metadata": {},
   "outputs": [
    {
     "data": {
      "text/plain": [
       "(5, 6)"
      ]
     },
     "execution_count": 8,
     "metadata": {},
     "output_type": "execute_result"
    }
   ],
   "source": [
    "Numero , numero"
   ]
  },
  {
   "cell_type": "code",
   "execution_count": 9,
   "id": "88338e1f",
   "metadata": {},
   "outputs": [],
   "source": [
    "#Concatenar"
   ]
  },
  {
   "cell_type": "code",
   "execution_count": 12,
   "id": "d05c768e",
   "metadata": {},
   "outputs": [],
   "source": [
    "cadena1 = \"Hola\"\n",
    "cadena2 = \" Mundo\"\n",
    "cadenanueva = cadena1 + cadena2"
   ]
  },
  {
   "cell_type": "code",
   "execution_count": 13,
   "id": "7770bff0",
   "metadata": {},
   "outputs": [
    {
     "data": {
      "text/plain": [
       "'Hola Mundo'"
      ]
     },
     "execution_count": 13,
     "metadata": {},
     "output_type": "execute_result"
    }
   ],
   "source": [
    "cadenanueva"
   ]
  },
  {
   "cell_type": "code",
   "execution_count": 14,
   "id": "79920e3d",
   "metadata": {},
   "outputs": [
    {
     "data": {
      "text/plain": [
       "9"
      ]
     },
     "execution_count": 14,
     "metadata": {},
     "output_type": "execute_result"
    }
   ],
   "source": [
    "numero1 = 5\n",
    "numero2 = 4\n",
    "suma = numero1 + numero2\n",
    "suma"
   ]
  },
  {
   "cell_type": "code",
   "execution_count": null,
   "id": "0c506700",
   "metadata": {},
   "outputs": [],
   "source": []
  }
 ],
 "metadata": {
  "kernelspec": {
   "display_name": "Python 3",
   "language": "python",
   "name": "python3"
  },
  "language_info": {
   "codemirror_mode": {
    "name": "ipython",
    "version": 3
   },
   "file_extension": ".py",
   "mimetype": "text/x-python",
   "name": "python",
   "nbconvert_exporter": "python",
   "pygments_lexer": "ipython3",
   "version": "3.8.8"
  }
 },
 "nbformat": 4,
 "nbformat_minor": 5
}
