{
 "cells": [
  {
   "cell_type": "code",
   "execution_count": 1,
   "id": "8c693e32",
   "metadata": {},
   "outputs": [],
   "source": [
    "nombre = \"Antonio\""
   ]
  },
  {
   "cell_type": "code",
   "execution_count": 2,
   "id": "5e526fde",
   "metadata": {},
   "outputs": [
    {
     "name": "stdout",
     "output_type": "stream",
     "text": [
      "Buenos días Antonio\n"
     ]
    }
   ],
   "source": [
    "print(\"Buenos días \" + nombre)"
   ]
  },
  {
   "cell_type": "code",
   "execution_count": 4,
   "id": "d69efcc6",
   "metadata": {},
   "outputs": [
    {
     "name": "stdout",
     "output_type": "stream",
     "text": [
      "Buenos días Antonio, feliz cumpleaños 18\n"
     ]
    }
   ],
   "source": [
    "#.format\n",
    "nombre = \"Antonio\"\n",
    "edad = 18\n",
    "print(\"Buenos días {}, feliz cumpleaños {}\".format(nombre, edad))"
   ]
  },
  {
   "cell_type": "code",
   "execution_count": 5,
   "id": "837698d1",
   "metadata": {},
   "outputs": [],
   "source": [
    "resultado = 10 / 3"
   ]
  },
  {
   "cell_type": "code",
   "execution_count": 6,
   "id": "24c88c5a",
   "metadata": {},
   "outputs": [
    {
     "data": {
      "text/plain": [
       "3.3333333333333335"
      ]
     },
     "execution_count": 6,
     "metadata": {},
     "output_type": "execute_result"
    }
   ],
   "source": [
    "resultado"
   ]
  },
  {
   "cell_type": "code",
   "execution_count": 7,
   "id": "5055ee15",
   "metadata": {},
   "outputs": [
    {
     "name": "stdout",
     "output_type": "stream",
     "text": [
      "El resultado es 3.3333333333333335\n"
     ]
    }
   ],
   "source": [
    "print(\"El resultado es {r}\".format(r = resultado))"
   ]
  },
  {
   "cell_type": "code",
   "execution_count": 9,
   "id": "ee8818b9",
   "metadata": {},
   "outputs": [
    {
     "name": "stdout",
     "output_type": "stream",
     "text": [
      "El resultado es 3.333\n"
     ]
    }
   ],
   "source": [
    "#indicar el formato de salida como 1 entero 3 flotantes\n",
    "print(\"El resultado es {r:1.3f}\".format(r = resultado))"
   ]
  },
  {
   "cell_type": "code",
   "execution_count": 10,
   "id": "a366a29f",
   "metadata": {},
   "outputs": [
    {
     "name": "stdout",
     "output_type": "stream",
     "text": [
      "Buenos días Antonio, feliz cumpleaños 18\n"
     ]
    }
   ],
   "source": [
    "#f-strings. Presente a partir de python 3.6\n",
    "nombre = \"Antonio\"\n",
    "edad = 18\n",
    "print(f\"Buenos días {nombre}, feliz cumpleaños {edad}\")"
   ]
  },
  {
   "cell_type": "code",
   "execution_count": null,
   "id": "49592301",
   "metadata": {},
   "outputs": [],
   "source": []
  }
 ],
 "metadata": {
  "kernelspec": {
   "display_name": "Python 3",
   "language": "python",
   "name": "python3"
  },
  "language_info": {
   "codemirror_mode": {
    "name": "ipython",
    "version": 3
   },
   "file_extension": ".py",
   "mimetype": "text/x-python",
   "name": "python",
   "nbconvert_exporter": "python",
   "pygments_lexer": "ipython3",
   "version": "3.8.8"
  }
 },
 "nbformat": 4,
 "nbformat_minor": 5
}
