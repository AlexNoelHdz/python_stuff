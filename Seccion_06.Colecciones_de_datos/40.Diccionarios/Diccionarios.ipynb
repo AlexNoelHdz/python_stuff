{
 "cells": [
  {
   "cell_type": "code",
   "execution_count": 1,
   "id": "ac535152",
   "metadata": {},
   "outputs": [],
   "source": [
    "#Diccionario\n",
    "#Es una colección de elementos que están indexados, no están ordenados y se pueden modificar\n",
    "#Son escritos entre llaves y están formados por pares de elementos clave valor"
   ]
  },
  {
   "cell_type": "code",
   "execution_count": 2,
   "id": "c187b73e",
   "metadata": {},
   "outputs": [],
   "source": [
    "diccionario_colores = { \"red\":\"rojo\",\"blue\":\"azul\",\"yellow\":\"amarillo\"}"
   ]
  },
  {
   "cell_type": "code",
   "execution_count": 4,
   "id": "28d3357f",
   "metadata": {},
   "outputs": [
    {
     "data": {
      "text/plain": [
       "{'red': 'rojo', 'blue': 'azul', 'yellow': 'amarillo'}"
      ]
     },
     "execution_count": 4,
     "metadata": {},
     "output_type": "execute_result"
    }
   ],
   "source": [
    "diccionario_colores"
   ]
  },
  {
   "cell_type": "code",
   "execution_count": 5,
   "id": "882f8b19",
   "metadata": {},
   "outputs": [
    {
     "data": {
      "text/plain": [
       "'rojo'"
      ]
     },
     "execution_count": 5,
     "metadata": {},
     "output_type": "execute_result"
    }
   ],
   "source": [
    "#Acceder al elemento por su clave\n",
    "diccionario_colores[\"red\"]"
   ]
  },
  {
   "cell_type": "code",
   "execution_count": 6,
   "id": "28f03c11",
   "metadata": {},
   "outputs": [],
   "source": [
    "#Asignar nuevo valor \n",
    "diccionario_colores[\"red\"] = \"rojo pasión\""
   ]
  },
  {
   "cell_type": "code",
   "execution_count": 7,
   "id": "86657efc",
   "metadata": {},
   "outputs": [
    {
     "data": {
      "text/plain": [
       "'rojo pasión'"
      ]
     },
     "execution_count": 7,
     "metadata": {},
     "output_type": "execute_result"
    }
   ],
   "source": [
    "diccionario_colores[\"red\"]"
   ]
  },
  {
   "cell_type": "code",
   "execution_count": 8,
   "id": "39f5232a",
   "metadata": {},
   "outputs": [],
   "source": [
    "#Añadir elementos\n",
    "diccionario_colores[\"black\"]  = \"negro\""
   ]
  },
  {
   "cell_type": "code",
   "execution_count": 9,
   "id": "39bf4b3b",
   "metadata": {},
   "outputs": [
    {
     "data": {
      "text/plain": [
       "{'red': 'rojo pasión', 'blue': 'azul', 'yellow': 'amarillo', 'black': 'negro'}"
      ]
     },
     "execution_count": 9,
     "metadata": {},
     "output_type": "execute_result"
    }
   ],
   "source": [
    "diccionario_colores"
   ]
  },
  {
   "cell_type": "code",
   "execution_count": 10,
   "id": "d5d7d8f8",
   "metadata": {},
   "outputs": [
    {
     "data": {
      "text/plain": [
       "'amarillo'"
      ]
     },
     "execution_count": 10,
     "metadata": {},
     "output_type": "execute_result"
    }
   ],
   "source": [
    "#Podemos borrar valores\n",
    "diccionario_colores.pop(\"yellow\")"
   ]
  },
  {
   "cell_type": "code",
   "execution_count": 11,
   "id": "76318d9f",
   "metadata": {},
   "outputs": [
    {
     "data": {
      "text/plain": [
       "{'red': 'rojo pasión', 'blue': 'azul', 'black': 'negro'}"
      ]
     },
     "execution_count": 11,
     "metadata": {},
     "output_type": "execute_result"
    }
   ],
   "source": [
    "diccionario_colores"
   ]
  },
  {
   "cell_type": "code",
   "execution_count": 12,
   "id": "a5316536",
   "metadata": {},
   "outputs": [],
   "source": [
    "#alternativa para borrar\n",
    "del(diccionario_colores[\"black\"])"
   ]
  },
  {
   "cell_type": "code",
   "execution_count": 13,
   "id": "256d7274",
   "metadata": {},
   "outputs": [
    {
     "data": {
      "text/plain": [
       "{'red': 'rojo pasión', 'blue': 'azul'}"
      ]
     },
     "execution_count": 13,
     "metadata": {},
     "output_type": "execute_result"
    }
   ],
   "source": [
    "diccionario_colores"
   ]
  },
  {
   "cell_type": "code",
   "execution_count": 14,
   "id": "c1471395",
   "metadata": {},
   "outputs": [
    {
     "name": "stdout",
     "output_type": "stream",
     "text": [
      "{'red': 'rojo pasión', 'blue': 'azul'}\n"
     ]
    }
   ],
   "source": [
    "print(diccionario_colores)"
   ]
  },
  {
   "cell_type": "code",
   "execution_count": 15,
   "id": "e282b4fd",
   "metadata": {},
   "outputs": [
    {
     "name": "stdout",
     "output_type": "stream",
     "text": [
      "red\n",
      "blue\n"
     ]
    }
   ],
   "source": [
    "#claves\n",
    "for color in diccionario_colores:\n",
    "    print(color)"
   ]
  },
  {
   "cell_type": "code",
   "execution_count": 18,
   "id": "03c79960",
   "metadata": {},
   "outputs": [
    {
     "name": "stdout",
     "output_type": "stream",
     "text": [
      "red rojo pasión\n",
      "blue azul\n"
     ]
    }
   ],
   "source": [
    "#clave y Valores\n",
    "for clave, valor in diccionario_colores.items():\n",
    "    print(clave,valor)"
   ]
  },
  {
   "cell_type": "code",
   "execution_count": null,
   "id": "93d304ca",
   "metadata": {},
   "outputs": [],
   "source": []
  }
 ],
 "metadata": {
  "kernelspec": {
   "display_name": "Python 3",
   "language": "python",
   "name": "python3"
  },
  "language_info": {
   "codemirror_mode": {
    "name": "ipython",
    "version": 3
   },
   "file_extension": ".py",
   "mimetype": "text/x-python",
   "name": "python",
   "nbconvert_exporter": "python",
   "pygments_lexer": "ipython3",
   "version": "3.8.8"
  }
 },
 "nbformat": 4,
 "nbformat_minor": 5
}
