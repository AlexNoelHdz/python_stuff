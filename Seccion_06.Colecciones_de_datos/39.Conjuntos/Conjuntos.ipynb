{
 "cells": [
  {
   "cell_type": "code",
   "execution_count": 1,
   "id": "87d2ad7d",
   "metadata": {},
   "outputs": [],
   "source": [
    "#Conjunto\n",
    "#Colección de elementos desordenados"
   ]
  },
  {
   "cell_type": "code",
   "execution_count": 14,
   "id": "17d466f7",
   "metadata": {},
   "outputs": [],
   "source": [
    "conjunto_colores = {\"rojo\",\"verde\",\"azul\"}"
   ]
  },
  {
   "cell_type": "code",
   "execution_count": 3,
   "id": "dddf61c5",
   "metadata": {},
   "outputs": [
    {
     "data": {
      "text/plain": [
       "{'azul', 'rojo', 'verde'}"
      ]
     },
     "execution_count": 3,
     "metadata": {},
     "output_type": "execute_result"
    }
   ],
   "source": [
    "conjunto_colores"
   ]
  },
  {
   "cell_type": "code",
   "execution_count": 4,
   "id": "2a5af84a",
   "metadata": {},
   "outputs": [
    {
     "name": "stdout",
     "output_type": "stream",
     "text": [
      "rojo\n",
      "azul\n",
      "verde\n"
     ]
    }
   ],
   "source": [
    "for color in conjunto_colores:\n",
    "    print(color)"
   ]
  },
  {
   "cell_type": "code",
   "execution_count": 5,
   "id": "06b5acfd",
   "metadata": {},
   "outputs": [
    {
     "ename": "TypeError",
     "evalue": "'set' object is not subscriptable",
     "output_type": "error",
     "traceback": [
      "\u001b[1;31m---------------------------------------------------------------------------\u001b[0m",
      "\u001b[1;31mTypeError\u001b[0m                                 Traceback (most recent call last)",
      "\u001b[1;32m<ipython-input-5-8cbe851ceca4>\u001b[0m in \u001b[0;36m<module>\u001b[1;34m\u001b[0m\n\u001b[0;32m      1\u001b[0m \u001b[1;31m#no es posible acceder a una posición concreta porque el conjunto está desordenado\u001b[0m\u001b[1;33m\u001b[0m\u001b[1;33m\u001b[0m\u001b[1;33m\u001b[0m\u001b[0m\n\u001b[1;32m----> 2\u001b[1;33m \u001b[0mconjunto_colores\u001b[0m\u001b[1;33m[\u001b[0m\u001b[1;36m1\u001b[0m\u001b[1;33m]\u001b[0m\u001b[1;33m\u001b[0m\u001b[1;33m\u001b[0m\u001b[0m\n\u001b[0m",
      "\u001b[1;31mTypeError\u001b[0m: 'set' object is not subscriptable"
     ]
    }
   ],
   "source": [
    "#no es posible acceder a una posición concreta porque el conjunto está desordenado\n",
    "conjunto_colores[1]"
   ]
  },
  {
   "cell_type": "code",
   "execution_count": 6,
   "id": "53821c0c",
   "metadata": {},
   "outputs": [
    {
     "data": {
      "text/plain": [
       "3"
      ]
     },
     "execution_count": 6,
     "metadata": {},
     "output_type": "execute_result"
    }
   ],
   "source": [
    "len(conjunto_colores)"
   ]
  },
  {
   "cell_type": "code",
   "execution_count": 7,
   "id": "ef9aaf9c",
   "metadata": {},
   "outputs": [],
   "source": [
    "conjunto_colores.add(\"negro\")"
   ]
  },
  {
   "cell_type": "code",
   "execution_count": 10,
   "id": "bb4568f5",
   "metadata": {},
   "outputs": [
    {
     "data": {
      "text/plain": [
       "{'azul', 'negro', 'rojo', 'verde'}"
      ]
     },
     "execution_count": 10,
     "metadata": {},
     "output_type": "execute_result"
    }
   ],
   "source": [
    "conjunto_colores"
   ]
  },
  {
   "cell_type": "code",
   "execution_count": 15,
   "id": "1e720093",
   "metadata": {},
   "outputs": [],
   "source": [
    "#Eliminar un dato del conjunto.\n",
    "conjunto_colores.remove(\"verde\")"
   ]
  },
  {
   "cell_type": "code",
   "execution_count": 16,
   "id": "0c88e84f",
   "metadata": {},
   "outputs": [
    {
     "data": {
      "text/plain": [
       "{'azul', 'rojo'}"
      ]
     },
     "execution_count": 16,
     "metadata": {},
     "output_type": "execute_result"
    }
   ],
   "source": [
    "conjunto_colores"
   ]
  },
  {
   "cell_type": "code",
   "execution_count": null,
   "id": "cacd6648",
   "metadata": {},
   "outputs": [],
   "source": []
  }
 ],
 "metadata": {
  "kernelspec": {
   "display_name": "Python 3",
   "language": "python",
   "name": "python3"
  },
  "language_info": {
   "codemirror_mode": {
    "name": "ipython",
    "version": 3
   },
   "file_extension": ".py",
   "mimetype": "text/x-python",
   "name": "python",
   "nbconvert_exporter": "python",
   "pygments_lexer": "ipython3",
   "version": "3.8.8"
  }
 },
 "nbformat": 4,
 "nbformat_minor": 5
}
