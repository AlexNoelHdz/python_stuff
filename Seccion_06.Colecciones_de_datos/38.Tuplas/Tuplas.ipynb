{
 "cells": [
  {
   "cell_type": "code",
   "execution_count": 1,
   "id": "4030148b",
   "metadata": {},
   "outputs": [],
   "source": [
    "#Tuplas\n",
    "#Es una colección de elementos ordenada que no se puede modificar"
   ]
  },
  {
   "cell_type": "code",
   "execution_count": 2,
   "id": "21b711b4",
   "metadata": {},
   "outputs": [],
   "source": [
    "tupla_colores = (\"Rojo\",\"verde\",\"amarillo\")"
   ]
  },
  {
   "cell_type": "code",
   "execution_count": 3,
   "id": "111110a6",
   "metadata": {},
   "outputs": [
    {
     "data": {
      "text/plain": [
       "('Rojo', 'verde', 'amarillo')"
      ]
     },
     "execution_count": 3,
     "metadata": {},
     "output_type": "execute_result"
    }
   ],
   "source": [
    "tupla_colores"
   ]
  },
  {
   "cell_type": "code",
   "execution_count": 4,
   "id": "5b18cc00",
   "metadata": {},
   "outputs": [
    {
     "data": {
      "text/plain": [
       "'Rojo'"
      ]
     },
     "execution_count": 4,
     "metadata": {},
     "output_type": "execute_result"
    }
   ],
   "source": [
    "tupla_colores[0]"
   ]
  },
  {
   "cell_type": "code",
   "execution_count": 7,
   "id": "28968561",
   "metadata": {},
   "outputs": [
    {
     "ename": "TypeError",
     "evalue": "'tuple' object does not support item assignment",
     "output_type": "error",
     "traceback": [
      "\u001b[1;31m---------------------------------------------------------------------------\u001b[0m",
      "\u001b[1;31mTypeError\u001b[0m                                 Traceback (most recent call last)",
      "\u001b[1;32m<ipython-input-7-df03a0b2d47c>\u001b[0m in \u001b[0;36m<module>\u001b[1;34m\u001b[0m\n\u001b[0;32m      1\u001b[0m \u001b[1;31m#no podemos asignar un item\u001b[0m\u001b[1;33m\u001b[0m\u001b[1;33m\u001b[0m\u001b[1;33m\u001b[0m\u001b[0m\n\u001b[1;32m----> 2\u001b[1;33m \u001b[0mtupla_colores\u001b[0m\u001b[1;33m[\u001b[0m\u001b[1;36m0\u001b[0m\u001b[1;33m]\u001b[0m \u001b[1;33m=\u001b[0m \u001b[1;34m\"azul\"\u001b[0m\u001b[1;33m\u001b[0m\u001b[1;33m\u001b[0m\u001b[0m\n\u001b[0m",
      "\u001b[1;31mTypeError\u001b[0m: 'tuple' object does not support item assignment"
     ]
    }
   ],
   "source": [
    "#no podemos asignar un item\n",
    "tupla_colores[0] = \"azul\""
   ]
  },
  {
   "cell_type": "code",
   "execution_count": 13,
   "id": "a7cf54ac",
   "metadata": {},
   "outputs": [
    {
     "name": "stdout",
     "output_type": "stream",
     "text": [
      "Rojo\n",
      "verde\n",
      "amarillo\n"
     ]
    }
   ],
   "source": [
    "for color in tupla_colores:\n",
    "    print(color)"
   ]
  },
  {
   "cell_type": "code",
   "execution_count": 14,
   "id": "d5434dee",
   "metadata": {},
   "outputs": [
    {
     "data": {
      "text/plain": [
       "1"
      ]
     },
     "execution_count": 14,
     "metadata": {},
     "output_type": "execute_result"
    }
   ],
   "source": [
    "tupla_colores.count(\"Rojo\")"
   ]
  },
  {
   "cell_type": "code",
   "execution_count": 15,
   "id": "10e3d6b9",
   "metadata": {},
   "outputs": [
    {
     "data": {
      "text/plain": [
       "3"
      ]
     },
     "execution_count": 15,
     "metadata": {},
     "output_type": "execute_result"
    }
   ],
   "source": [
    "len(tupla_colores)"
   ]
  },
  {
   "cell_type": "code",
   "execution_count": 18,
   "id": "ccb2ee7f",
   "metadata": {},
   "outputs": [
    {
     "data": {
      "text/plain": [
       "1"
      ]
     },
     "execution_count": 18,
     "metadata": {},
     "output_type": "execute_result"
    }
   ],
   "source": [
    "#Encontrar el index de un elemento\n",
    "tupla_colores.index(\"verde\")"
   ]
  },
  {
   "cell_type": "code",
   "execution_count": null,
   "id": "4280fd9c",
   "metadata": {},
   "outputs": [],
   "source": []
  }
 ],
 "metadata": {
  "kernelspec": {
   "display_name": "Python 3",
   "language": "python",
   "name": "python3"
  },
  "language_info": {
   "codemirror_mode": {
    "name": "ipython",
    "version": 3
   },
   "file_extension": ".py",
   "mimetype": "text/x-python",
   "name": "python",
   "nbconvert_exporter": "python",
   "pygments_lexer": "ipython3",
   "version": "3.8.8"
  }
 },
 "nbformat": 4,
 "nbformat_minor": 5
}
