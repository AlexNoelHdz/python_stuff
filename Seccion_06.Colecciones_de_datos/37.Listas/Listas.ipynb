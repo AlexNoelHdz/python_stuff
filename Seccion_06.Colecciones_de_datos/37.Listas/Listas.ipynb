{
 "cells": [
  {
   "cell_type": "code",
   "execution_count": 1,
   "id": "ceee3f7e",
   "metadata": {},
   "outputs": [],
   "source": [
    "colores = [\"rojo\",\"amarillo\",\"verde\"]"
   ]
  },
  {
   "cell_type": "code",
   "execution_count": 2,
   "id": "8e7261b6",
   "metadata": {},
   "outputs": [
    {
     "data": {
      "text/plain": [
       "['rojo', 'amarillo', 'verde']"
      ]
     },
     "execution_count": 2,
     "metadata": {},
     "output_type": "execute_result"
    }
   ],
   "source": [
    "colores"
   ]
  },
  {
   "cell_type": "code",
   "execution_count": 3,
   "id": "4d0dac5b",
   "metadata": {},
   "outputs": [
    {
     "data": {
      "text/plain": [
       "'rojo'"
      ]
     },
     "execution_count": 3,
     "metadata": {},
     "output_type": "execute_result"
    }
   ],
   "source": [
    "colores[0]"
   ]
  },
  {
   "cell_type": "code",
   "execution_count": 4,
   "id": "4a22d331",
   "metadata": {},
   "outputs": [],
   "source": [
    "#modificar un elemento\n",
    "colores[0] = \"violeta\""
   ]
  },
  {
   "cell_type": "code",
   "execution_count": 5,
   "id": "d2d03bbf",
   "metadata": {},
   "outputs": [
    {
     "data": {
      "text/plain": [
       "['violeta', 'amarillo', 'verde']"
      ]
     },
     "execution_count": 5,
     "metadata": {},
     "output_type": "execute_result"
    }
   ],
   "source": [
    "colores"
   ]
  },
  {
   "cell_type": "code",
   "execution_count": 6,
   "id": "60b38f1f",
   "metadata": {},
   "outputs": [
    {
     "data": {
      "text/plain": [
       "3"
      ]
     },
     "execution_count": 6,
     "metadata": {},
     "output_type": "execute_result"
    }
   ],
   "source": [
    "len(colores)"
   ]
  },
  {
   "cell_type": "code",
   "execution_count": 13,
   "id": "8beae410",
   "metadata": {},
   "outputs": [],
   "source": [
    "colores.append(\"naranja\")"
   ]
  },
  {
   "cell_type": "code",
   "execution_count": 8,
   "id": "97132d8a",
   "metadata": {},
   "outputs": [
    {
     "data": {
      "text/plain": [
       "['violeta', 'amarillo', 'verde', 'naranja']"
      ]
     },
     "execution_count": 8,
     "metadata": {},
     "output_type": "execute_result"
    }
   ],
   "source": [
    "colores"
   ]
  },
  {
   "cell_type": "code",
   "execution_count": 9,
   "id": "8fbf7497",
   "metadata": {},
   "outputs": [
    {
     "ename": "ValueError",
     "evalue": "list.remove(x): x not in list",
     "output_type": "error",
     "traceback": [
      "\u001b[1;31m---------------------------------------------------------------------------\u001b[0m",
      "\u001b[1;31mValueError\u001b[0m                                Traceback (most recent call last)",
      "\u001b[1;32m<ipython-input-9-c80facac53f0>\u001b[0m in \u001b[0;36m<module>\u001b[1;34m\u001b[0m\n\u001b[0;32m      1\u001b[0m \u001b[1;31m#borrar valores\u001b[0m\u001b[1;33m\u001b[0m\u001b[1;33m\u001b[0m\u001b[1;33m\u001b[0m\u001b[0m\n\u001b[1;32m----> 2\u001b[1;33m \u001b[0mcolores\u001b[0m\u001b[1;33m.\u001b[0m\u001b[0mremove\u001b[0m\u001b[1;33m(\u001b[0m\u001b[1;34m\"rojo\"\u001b[0m\u001b[1;33m)\u001b[0m\u001b[1;33m\u001b[0m\u001b[1;33m\u001b[0m\u001b[0m\n\u001b[0m",
      "\u001b[1;31mValueError\u001b[0m: list.remove(x): x not in list"
     ]
    }
   ],
   "source": [
    "#borrar valores (incorrecto)\n",
    "colores.remove(\"rojo\")"
   ]
  },
  {
   "cell_type": "code",
   "execution_count": 14,
   "id": "cdf37c0f",
   "metadata": {},
   "outputs": [],
   "source": [
    "#borrar valores (correcto)\n",
    "colores.remove(\"naranja\")"
   ]
  },
  {
   "cell_type": "code",
   "execution_count": 15,
   "id": "8095486c",
   "metadata": {},
   "outputs": [
    {
     "data": {
      "text/plain": [
       "['violeta', 'amarillo', 'verde']"
      ]
     },
     "execution_count": 15,
     "metadata": {},
     "output_type": "execute_result"
    }
   ],
   "source": [
    "colores"
   ]
  },
  {
   "cell_type": "code",
   "execution_count": 17,
   "id": "bb9cc19e",
   "metadata": {},
   "outputs": [
    {
     "name": "stdout",
     "output_type": "stream",
     "text": [
      "violeta\n",
      "amarillo\n",
      "verde\n"
     ]
    }
   ],
   "source": [
    "for color in colores:\n",
    "    print(color)"
   ]
  },
  {
   "cell_type": "code",
   "execution_count": 20,
   "id": "16ade398",
   "metadata": {},
   "outputs": [],
   "source": [
    "#limipiar\n",
    "colores.clear()"
   ]
  },
  {
   "cell_type": "code",
   "execution_count": 21,
   "id": "a1d39bb2",
   "metadata": {},
   "outputs": [
    {
     "data": {
      "text/plain": [
       "[]"
      ]
     },
     "execution_count": 21,
     "metadata": {},
     "output_type": "execute_result"
    }
   ],
   "source": [
    "colores"
   ]
  }
 ],
 "metadata": {
  "kernelspec": {
   "display_name": "Python 3",
   "language": "python",
   "name": "python3"
  },
  "language_info": {
   "codemirror_mode": {
    "name": "ipython",
    "version": 3
   },
   "file_extension": ".py",
   "mimetype": "text/x-python",
   "name": "python",
   "nbconvert_exporter": "python",
   "pygments_lexer": "ipython3",
   "version": "3.8.8"
  }
 },
 "nbformat": 4,
 "nbformat_minor": 5
}
