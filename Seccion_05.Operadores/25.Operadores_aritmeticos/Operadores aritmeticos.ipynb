{
 "cells": [
  {
   "cell_type": "code",
   "execution_count": 2,
   "id": "f61b9c92",
   "metadata": {},
   "outputs": [
    {
     "data": {
      "text/plain": [
       "15"
      ]
     },
     "execution_count": 2,
     "metadata": {},
     "output_type": "execute_result"
    }
   ],
   "source": [
    "numero1 = 10\n",
    "numero2 = 5\n",
    "suma = numero1 + numero2\n",
    "suma"
   ]
  },
  {
   "cell_type": "code",
   "execution_count": 3,
   "id": "989796a2",
   "metadata": {},
   "outputs": [
    {
     "data": {
      "text/plain": [
       "5"
      ]
     },
     "execution_count": 3,
     "metadata": {},
     "output_type": "execute_result"
    }
   ],
   "source": [
    "numero1 = 10\n",
    "numero2 = 5\n",
    "resta = numero1 - numero2\n",
    "resta"
   ]
  },
  {
   "cell_type": "code",
   "execution_count": 4,
   "id": "af980fbb",
   "metadata": {},
   "outputs": [
    {
     "data": {
      "text/plain": [
       "50"
      ]
     },
     "execution_count": 4,
     "metadata": {},
     "output_type": "execute_result"
    }
   ],
   "source": [
    "numero1 = 10\n",
    "numero2 = 5\n",
    "multiplicacion = numero1 * numero2\n",
    "multiplicacion"
   ]
  },
  {
   "cell_type": "code",
   "execution_count": 6,
   "id": "2a6e2dff",
   "metadata": {},
   "outputs": [
    {
     "data": {
      "text/plain": [
       "2.5"
      ]
     },
     "execution_count": 6,
     "metadata": {},
     "output_type": "execute_result"
    }
   ],
   "source": [
    "numero1 = 5\n",
    "numero2 = 2\n",
    "division = numero1 / numero2\n",
    "division"
   ]
  },
  {
   "cell_type": "code",
   "execution_count": 12,
   "id": "4a000d03",
   "metadata": {},
   "outputs": [
    {
     "data": {
      "text/plain": [
       "2"
      ]
     },
     "execution_count": 12,
     "metadata": {},
     "output_type": "execute_result"
    }
   ],
   "source": [
    "#Valor entero que resulta de la división (Cocinete)\n",
    "numero1 = 5\n",
    "numero2 = 2\n",
    "# 5 / 2 = 2\n",
    "cociente = numero1 // numero2\n",
    "cociente"
   ]
  },
  {
   "cell_type": "code",
   "execution_count": 14,
   "id": "b526ed25",
   "metadata": {},
   "outputs": [
    {
     "data": {
      "text/plain": [
       "1"
      ]
     },
     "execution_count": 14,
     "metadata": {},
     "output_type": "execute_result"
    }
   ],
   "source": [
    "#resto o modulo\n",
    "numero1 = 5\n",
    "numero2 = 2\n",
    "# 5 / 2 = cociente 2 (y sobra 1)\n",
    "resto = numero1 % numero2\n",
    "resto"
   ]
  },
  {
   "cell_type": "code",
   "execution_count": 15,
   "id": "56ba076d",
   "metadata": {},
   "outputs": [
    {
     "data": {
      "text/plain": [
       "8"
      ]
     },
     "execution_count": 15,
     "metadata": {},
     "output_type": "execute_result"
    }
   ],
   "source": [
    "exponente = 2 ** 3\n",
    "exponente"
   ]
  },
  {
   "cell_type": "code",
   "execution_count": null,
   "id": "230743d9",
   "metadata": {},
   "outputs": [],
   "source": []
  }
 ],
 "metadata": {
  "kernelspec": {
   "display_name": "Python 3",
   "language": "python",
   "name": "python3"
  },
  "language_info": {
   "codemirror_mode": {
    "name": "ipython",
    "version": 3
   },
   "file_extension": ".py",
   "mimetype": "text/x-python",
   "name": "python",
   "nbconvert_exporter": "python",
   "pygments_lexer": "ipython3",
   "version": "3.8.8"
  }
 },
 "nbformat": 4,
 "nbformat_minor": 5
}
