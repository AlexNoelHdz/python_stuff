{
 "cells": [
  {
   "cell_type": "code",
   "execution_count": 1,
   "id": "56f15563",
   "metadata": {},
   "outputs": [],
   "source": [
    "#Operadores de identidad (is, is not)\n",
    "#Intentan identificar si los objetos son realmente el mismo objeto \n",
    "#o si son diferentes objetos"
   ]
  },
  {
   "cell_type": "code",
   "execution_count": 3,
   "id": "efcad0e7",
   "metadata": {},
   "outputs": [],
   "source": [
    "frutas1 = [\"manzana\",\"pera\"]\n",
    "frutas2 = [\"manzana\",\"pera\"]\n",
    "frutas3 = frutas1"
   ]
  },
  {
   "cell_type": "code",
   "execution_count": 4,
   "id": "f9e6ed33",
   "metadata": {},
   "outputs": [
    {
     "data": {
      "text/plain": [
       "True"
      ]
     },
     "execution_count": 4,
     "metadata": {},
     "output_type": "execute_result"
    }
   ],
   "source": [
    "frutas3 is frutas1"
   ]
  },
  {
   "cell_type": "code",
   "execution_count": 8,
   "id": "0a37bda2",
   "metadata": {},
   "outputs": [
    {
     "data": {
      "text/plain": [
       "False"
      ]
     },
     "execution_count": 8,
     "metadata": {},
     "output_type": "execute_result"
    }
   ],
   "source": [
    "frutas3 is frutas2"
   ]
  },
  {
   "cell_type": "code",
   "execution_count": 9,
   "id": "08476650",
   "metadata": {},
   "outputs": [
    {
     "data": {
      "text/plain": [
       "True"
      ]
     },
     "execution_count": 9,
     "metadata": {},
     "output_type": "execute_result"
    }
   ],
   "source": [
    "#el operador == determinaría que los objetos son iguales\n",
    "frutas3 == frutas2"
   ]
  },
  {
   "cell_type": "code",
   "execution_count": 10,
   "id": "844d0a86",
   "metadata": {},
   "outputs": [],
   "source": [
    "frutas3.append(\"naranja\")"
   ]
  },
  {
   "cell_type": "code",
   "execution_count": 11,
   "id": "f05d8aa1",
   "metadata": {},
   "outputs": [
    {
     "data": {
      "text/plain": [
       "['manzana', 'pera', 'naranja']"
      ]
     },
     "execution_count": 11,
     "metadata": {},
     "output_type": "execute_result"
    }
   ],
   "source": [
    "frutas3"
   ]
  },
  {
   "cell_type": "code",
   "execution_count": 12,
   "id": "41c7af72",
   "metadata": {},
   "outputs": [
    {
     "data": {
      "text/plain": [
       "['manzana', 'pera', 'naranja']"
      ]
     },
     "execution_count": 12,
     "metadata": {},
     "output_type": "execute_result"
    }
   ],
   "source": [
    "#Como se igualo frutas 3 a frutas 1, comparten el mismo objeto y si cambia uno cambia el otro\n",
    "frutas1"
   ]
  },
  {
   "cell_type": "code",
   "execution_count": 14,
   "id": "dd43d82a",
   "metadata": {},
   "outputs": [
    {
     "data": {
      "text/plain": [
       "False"
      ]
     },
     "execution_count": 14,
     "metadata": {},
     "output_type": "execute_result"
    }
   ],
   "source": [
    "#is not\n",
    "frutas3 is not frutas1"
   ]
  },
  {
   "cell_type": "code",
   "execution_count": null,
   "id": "65a63e48",
   "metadata": {},
   "outputs": [],
   "source": []
  }
 ],
 "metadata": {
  "kernelspec": {
   "display_name": "Python 3",
   "language": "python",
   "name": "python3"
  },
  "language_info": {
   "codemirror_mode": {
    "name": "ipython",
    "version": 3
   },
   "file_extension": ".py",
   "mimetype": "text/x-python",
   "name": "python",
   "nbconvert_exporter": "python",
   "pygments_lexer": "ipython3",
   "version": "3.8.8"
  }
 },
 "nbformat": 4,
 "nbformat_minor": 5
}
