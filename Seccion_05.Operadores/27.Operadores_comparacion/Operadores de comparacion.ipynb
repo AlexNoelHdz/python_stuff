{
 "cells": [
  {
   "cell_type": "code",
   "execution_count": 1,
   "id": "9821f06d",
   "metadata": {},
   "outputs": [],
   "source": [
    "#Operadores de comparacion (==, !=, >, <, >=, <=)\n",
    "#Sirven para comparar variables, devuelven coincidencia o true; inconcidencia o false,"
   ]
  },
  {
   "cell_type": "code",
   "execution_count": 2,
   "id": "04a58fc0",
   "metadata": {},
   "outputs": [
    {
     "data": {
      "text/plain": [
       "False"
      ]
     },
     "execution_count": 2,
     "metadata": {},
     "output_type": "execute_result"
    }
   ],
   "source": [
    "numero1 = 5\n",
    "numero2 = 3\n",
    "numero1 == numero2"
   ]
  },
  {
   "cell_type": "code",
   "execution_count": 3,
   "id": "10091b3a",
   "metadata": {},
   "outputs": [
    {
     "data": {
      "text/plain": [
       "True"
      ]
     },
     "execution_count": 3,
     "metadata": {},
     "output_type": "execute_result"
    }
   ],
   "source": [
    "cadena1 = 'hola'\n",
    "cadena2 = 'hola'\n",
    "cadena1 == cadena2"
   ]
  },
  {
   "cell_type": "code",
   "execution_count": 4,
   "id": "c2810f8b",
   "metadata": {},
   "outputs": [
    {
     "name": "stdout",
     "output_type": "stream",
     "text": [
      "Dijo hola\n"
     ]
    }
   ],
   "source": [
    "cadena1 = 'hola'\n",
    "if (cadena1 == 'hola'):\n",
    "    print(\"Dijo hola\")"
   ]
  },
  {
   "cell_type": "code",
   "execution_count": 5,
   "id": "30707a20",
   "metadata": {},
   "outputs": [
    {
     "data": {
      "text/plain": [
       "True"
      ]
     },
     "execution_count": 5,
     "metadata": {},
     "output_type": "execute_result"
    }
   ],
   "source": [
    "# != distinto que\n",
    "numero1 = 3\n",
    "numero2 = 5\n",
    "numero1 != numero2"
   ]
  },
  {
   "cell_type": "code",
   "execution_count": 6,
   "id": "4b036d34",
   "metadata": {},
   "outputs": [
    {
     "data": {
      "text/plain": [
       "False"
      ]
     },
     "execution_count": 6,
     "metadata": {},
     "output_type": "execute_result"
    }
   ],
   "source": [
    "# es mayor que > \n",
    "numero1 = 3\n",
    "numero2 = 5\n",
    "numero1 > numero2"
   ]
  },
  {
   "cell_type": "code",
   "execution_count": 7,
   "id": "5be233d2",
   "metadata": {},
   "outputs": [
    {
     "data": {
      "text/plain": [
       "True"
      ]
     },
     "execution_count": 7,
     "metadata": {},
     "output_type": "execute_result"
    }
   ],
   "source": [
    "# es menor que < \n",
    "numero1 = 3\n",
    "numero2 = 5\n",
    "numero1 < numero2"
   ]
  },
  {
   "cell_type": "code",
   "execution_count": 8,
   "id": "d80d49a7",
   "metadata": {},
   "outputs": [
    {
     "data": {
      "text/plain": [
       "False"
      ]
     },
     "execution_count": 8,
     "metadata": {},
     "output_type": "execute_result"
    }
   ],
   "source": [
    "# es mayor o igual que >= \n",
    "numero1 = 3\n",
    "numero2 = 5\n",
    "numero1 >= numero2"
   ]
  },
  {
   "cell_type": "code",
   "execution_count": 10,
   "id": "ac224de9",
   "metadata": {},
   "outputs": [
    {
     "data": {
      "text/plain": [
       "True"
      ]
     },
     "execution_count": 10,
     "metadata": {},
     "output_type": "execute_result"
    }
   ],
   "source": [
    "# es menor o igual que <= \n",
    "numero1 = 5\n",
    "numero2 = 5\n",
    "numero1 <= numero2"
   ]
  },
  {
   "cell_type": "code",
   "execution_count": null,
   "id": "8d7f3ed3",
   "metadata": {},
   "outputs": [],
   "source": []
  }
 ],
 "metadata": {
  "kernelspec": {
   "display_name": "Python 3",
   "language": "python",
   "name": "python3"
  },
  "language_info": {
   "codemirror_mode": {
    "name": "ipython",
    "version": 3
   },
   "file_extension": ".py",
   "mimetype": "text/x-python",
   "name": "python",
   "nbconvert_exporter": "python",
   "pygments_lexer": "ipython3",
   "version": "3.8.8"
  }
 },
 "nbformat": 4,
 "nbformat_minor": 5
}
