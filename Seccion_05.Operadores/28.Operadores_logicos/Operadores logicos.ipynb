{
 "cells": [
  {
   "cell_type": "code",
   "execution_count": 4,
   "id": "fc06d0c3",
   "metadata": {},
   "outputs": [],
   "source": [
    "#Operadores lógicos and or not\n",
    "#Sirven para combinar varias condiciones"
   ]
  },
  {
   "cell_type": "code",
   "execution_count": 5,
   "id": "41dbafbf",
   "metadata": {},
   "outputs": [],
   "source": [
    "numero1 = 10\n",
    "numero2 = 5\n",
    "numero3 = 7\n",
    "numero4 = 8"
   ]
  },
  {
   "cell_type": "code",
   "execution_count": 6,
   "id": "9853489f",
   "metadata": {},
   "outputs": [
    {
     "data": {
      "text/plain": [
       "True"
      ]
     },
     "execution_count": 6,
     "metadata": {},
     "output_type": "execute_result"
    }
   ],
   "source": [
    "numero1 > numero2"
   ]
  },
  {
   "cell_type": "code",
   "execution_count": 8,
   "id": "d9af50f0",
   "metadata": {},
   "outputs": [
    {
     "data": {
      "text/plain": [
       "True"
      ]
     },
     "execution_count": 8,
     "metadata": {},
     "output_type": "execute_result"
    }
   ],
   "source": [
    "numero3 < numero4"
   ]
  },
  {
   "cell_type": "code",
   "execution_count": 9,
   "id": "cffbea5d",
   "metadata": {},
   "outputs": [
    {
     "data": {
      "text/plain": [
       "True"
      ]
     },
     "execution_count": 9,
     "metadata": {},
     "output_type": "execute_result"
    }
   ],
   "source": [
    "(numero1 > numero2) and (numero3 < numero4) "
   ]
  },
  {
   "cell_type": "code",
   "execution_count": 11,
   "id": "e88917de",
   "metadata": {},
   "outputs": [
    {
     "data": {
      "text/plain": [
       "True"
      ]
     },
     "execution_count": 11,
     "metadata": {},
     "output_type": "execute_result"
    }
   ],
   "source": [
    "(numero1 > numero2) & (numero3 < numero4) "
   ]
  },
  {
   "cell_type": "code",
   "execution_count": 12,
   "id": "223b3e45",
   "metadata": {},
   "outputs": [
    {
     "data": {
      "text/plain": [
       "False"
      ]
     },
     "execution_count": 12,
     "metadata": {},
     "output_type": "execute_result"
    }
   ],
   "source": [
    "numero3 > numero4"
   ]
  },
  {
   "cell_type": "code",
   "execution_count": 14,
   "id": "9bd03716",
   "metadata": {},
   "outputs": [
    {
     "data": {
      "text/plain": [
       "False"
      ]
     },
     "execution_count": 14,
     "metadata": {},
     "output_type": "execute_result"
    }
   ],
   "source": [
    "#SI alguno de los dos es falso, el resultado es falso\n",
    "(numero1 > numero2) and (numero3 > numero4) "
   ]
  },
  {
   "cell_type": "code",
   "execution_count": 16,
   "id": "19bcf8a2",
   "metadata": {},
   "outputs": [
    {
     "data": {
      "text/plain": [
       "True"
      ]
     },
     "execution_count": 16,
     "metadata": {},
     "output_type": "execute_result"
    }
   ],
   "source": [
    "#Si uno de los dos es verdadero, el resultado es verdadero\n",
    "(numero1 > numero2) or (numero3 > numero4) "
   ]
  },
  {
   "cell_type": "code",
   "execution_count": 20,
   "id": "57e42bf2",
   "metadata": {},
   "outputs": [],
   "source": [
    "numero1 = 10\n",
    "numero2 = 5\n",
    "numero3 = 7\n",
    "numero4 = 8"
   ]
  },
  {
   "cell_type": "code",
   "execution_count": 22,
   "id": "6f5ff781",
   "metadata": {},
   "outputs": [
    {
     "data": {
      "text/plain": [
       "False"
      ]
     },
     "execution_count": 22,
     "metadata": {},
     "output_type": "execute_result"
    }
   ],
   "source": [
    "comparacion = (numero3 > numero4)\n",
    "comparacion"
   ]
  },
  {
   "cell_type": "code",
   "execution_count": 23,
   "id": "2b5a6902",
   "metadata": {},
   "outputs": [
    {
     "data": {
      "text/plain": [
       "True"
      ]
     },
     "execution_count": 23,
     "metadata": {},
     "output_type": "execute_result"
    }
   ],
   "source": [
    "not comparacion"
   ]
  },
  {
   "cell_type": "code",
   "execution_count": 24,
   "id": "09e8f4a8",
   "metadata": {},
   "outputs": [
    {
     "data": {
      "text/plain": [
       "True"
      ]
     },
     "execution_count": 24,
     "metadata": {},
     "output_type": "execute_result"
    }
   ],
   "source": [
    "not (numero3 > numero4)"
   ]
  },
  {
   "cell_type": "code",
   "execution_count": 25,
   "id": "1c5ba0f1",
   "metadata": {},
   "outputs": [
    {
     "data": {
      "text/plain": [
       "False"
      ]
     },
     "execution_count": 25,
     "metadata": {},
     "output_type": "execute_result"
    }
   ],
   "source": [
    "(2 == 2) and not (2 == 2)"
   ]
  },
  {
   "cell_type": "code",
   "execution_count": 29,
   "id": "4c9659a3",
   "metadata": {},
   "outputs": [
    {
     "data": {
      "text/plain": [
       "True"
      ]
     },
     "execution_count": 29,
     "metadata": {},
     "output_type": "execute_result"
    }
   ],
   "source": [
    "(2 == 2) and (2 == 2)"
   ]
  },
  {
   "cell_type": "code",
   "execution_count": null,
   "id": "d259b0fd",
   "metadata": {},
   "outputs": [],
   "source": []
  }
 ],
 "metadata": {
  "kernelspec": {
   "display_name": "Python 3",
   "language": "python",
   "name": "python3"
  },
  "language_info": {
   "codemirror_mode": {
    "name": "ipython",
    "version": 3
   },
   "file_extension": ".py",
   "mimetype": "text/x-python",
   "name": "python",
   "nbconvert_exporter": "python",
   "pygments_lexer": "ipython3",
   "version": "3.8.8"
  }
 },
 "nbformat": 4,
 "nbformat_minor": 5
}
