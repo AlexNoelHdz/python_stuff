{
 "cells": [
  {
   "cell_type": "code",
   "execution_count": 1,
   "id": "f56fa065",
   "metadata": {},
   "outputs": [],
   "source": [
    "#operadores de pertenencia (in, not in)\n",
    "#identificar si un valor está dentro de una lista de valores u objetos"
   ]
  },
  {
   "cell_type": "code",
   "execution_count": 5,
   "id": "2c332d4f",
   "metadata": {},
   "outputs": [],
   "source": [
    "frutas1 = [\"manzana\",\"pera\",\"naranja\"]\n",
    "pera = \"pera\"\n",
    "jitomate = \"jitomate\""
   ]
  },
  {
   "cell_type": "code",
   "execution_count": 6,
   "id": "97ae4dad",
   "metadata": {},
   "outputs": [
    {
     "data": {
      "text/plain": [
       "True"
      ]
     },
     "execution_count": 6,
     "metadata": {},
     "output_type": "execute_result"
    }
   ],
   "source": [
    "pera in frutas1"
   ]
  },
  {
   "cell_type": "code",
   "execution_count": 7,
   "id": "8200133b",
   "metadata": {},
   "outputs": [
    {
     "data": {
      "text/plain": [
       "False"
      ]
     },
     "execution_count": 7,
     "metadata": {},
     "output_type": "execute_result"
    }
   ],
   "source": [
    "jitomate in frutas1"
   ]
  },
  {
   "cell_type": "code",
   "execution_count": 8,
   "id": "74f629d1",
   "metadata": {},
   "outputs": [
    {
     "data": {
      "text/plain": [
       "True"
      ]
     },
     "execution_count": 8,
     "metadata": {},
     "output_type": "execute_result"
    }
   ],
   "source": [
    "jitomate not in frutas1"
   ]
  },
  {
   "cell_type": "code",
   "execution_count": null,
   "id": "46361e65",
   "metadata": {},
   "outputs": [],
   "source": []
  }
 ],
 "metadata": {
  "kernelspec": {
   "display_name": "Python 3",
   "language": "python",
   "name": "python3"
  },
  "language_info": {
   "codemirror_mode": {
    "name": "ipython",
    "version": 3
   },
   "file_extension": ".py",
   "mimetype": "text/x-python",
   "name": "python",
   "nbconvert_exporter": "python",
   "pygments_lexer": "ipython3",
   "version": "3.8.8"
  }
 },
 "nbformat": 4,
 "nbformat_minor": 5
}
