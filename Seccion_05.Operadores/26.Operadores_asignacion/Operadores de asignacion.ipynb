{
 "cells": [
  {
   "cell_type": "code",
   "execution_count": 1,
   "id": "e60a2c97",
   "metadata": {},
   "outputs": [
    {
     "data": {
      "text/plain": [
       "5"
      ]
     },
     "execution_count": 1,
     "metadata": {},
     "output_type": "execute_result"
    }
   ],
   "source": [
    "#se utilizan para asignar valores a variables =, +=, -=, /=, **=\n",
    "numero = 5\n",
    "numero"
   ]
  },
  {
   "cell_type": "code",
   "execution_count": 4,
   "id": "f4d3290c",
   "metadata": {},
   "outputs": [
    {
     "data": {
      "text/plain": [
       "9"
      ]
     },
     "execution_count": 4,
     "metadata": {},
     "output_type": "execute_result"
    }
   ],
   "source": [
    "#numero = numero + 4\n",
    "numero = 5\n",
    "numero += 4\n",
    "numero"
   ]
  },
  {
   "cell_type": "code",
   "execution_count": 5,
   "id": "60fb3520",
   "metadata": {},
   "outputs": [
    {
     "data": {
      "text/plain": [
       "2"
      ]
     },
     "execution_count": 5,
     "metadata": {},
     "output_type": "execute_result"
    }
   ],
   "source": [
    "#numero = numero - 3\n",
    "numero = 5\n",
    "numero -= 3\n",
    "numero"
   ]
  },
  {
   "cell_type": "code",
   "execution_count": 7,
   "id": "7428b179",
   "metadata": {},
   "outputs": [
    {
     "data": {
      "text/plain": [
       "5.0"
      ]
     },
     "execution_count": 7,
     "metadata": {},
     "output_type": "execute_result"
    }
   ],
   "source": [
    "#numero = numero / 3\n",
    "numero = 15\n",
    "numero /= 3\n",
    "numero"
   ]
  },
  {
   "cell_type": "code",
   "execution_count": 9,
   "id": "595f220b",
   "metadata": {},
   "outputs": [
    {
     "data": {
      "text/plain": [
       "25"
      ]
     },
     "execution_count": 9,
     "metadata": {},
     "output_type": "execute_result"
    }
   ],
   "source": [
    "#numero = numero ** 2\n",
    "numero = 5\n",
    "numero **= 2\n",
    "numero"
   ]
  },
  {
   "cell_type": "code",
   "execution_count": null,
   "id": "302253df",
   "metadata": {},
   "outputs": [],
   "source": []
  }
 ],
 "metadata": {
  "kernelspec": {
   "display_name": "Python 3",
   "language": "python",
   "name": "python3"
  },
  "language_info": {
   "codemirror_mode": {
    "name": "ipython",
    "version": 3
   },
   "file_extension": ".py",
   "mimetype": "text/x-python",
   "name": "python",
   "nbconvert_exporter": "python",
   "pygments_lexer": "ipython3",
   "version": "3.8.8"
  }
 },
 "nbformat": 4,
 "nbformat_minor": 5
}
