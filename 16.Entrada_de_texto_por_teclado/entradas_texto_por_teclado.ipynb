{
 "cells": [
  {
   "cell_type": "code",
   "execution_count": 1,
   "id": "fb01c9a2",
   "metadata": {},
   "outputs": [],
   "source": [
    "#input()"
   ]
  },
  {
   "cell_type": "code",
   "execution_count": 5,
   "id": "1a44ff54",
   "metadata": {},
   "outputs": [
    {
     "name": "stdout",
     "output_type": "stream",
     "text": [
      "Introduzca un nombre\n",
      "Alejandro\n",
      "Introduzca una edad\n",
      "21\n",
      "Hola Alejandro de 21años\n"
     ]
    }
   ],
   "source": [
    "print(\"Introduzca un nombre\")\n",
    "entrada = input()\n",
    "print(\"Introduzca una edad\")\n",
    "edad = input()\n",
    "print(\"Hola \" + entrada + \" de \" + edad + \"años\")"
   ]
  },
  {
   "cell_type": "code",
   "execution_count": null,
   "id": "8c8d0dcc",
   "metadata": {},
   "outputs": [],
   "source": []
  }
 ],
 "metadata": {
  "kernelspec": {
   "display_name": "Python 3",
   "language": "python",
   "name": "python3"
  },
  "language_info": {
   "codemirror_mode": {
    "name": "ipython",
    "version": 3
   },
   "file_extension": ".py",
   "mimetype": "text/x-python",
   "name": "python",
   "nbconvert_exporter": "python",
   "pygments_lexer": "ipython3",
   "version": "3.8.8"
  }
 },
 "nbformat": 4,
 "nbformat_minor": 5
}
