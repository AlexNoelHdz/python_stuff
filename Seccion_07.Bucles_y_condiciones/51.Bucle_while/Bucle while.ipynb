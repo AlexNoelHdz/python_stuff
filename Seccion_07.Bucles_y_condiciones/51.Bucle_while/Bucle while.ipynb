{
 "cells": [
  {
   "cell_type": "code",
   "execution_count": 1,
   "id": "884c9aca",
   "metadata": {},
   "outputs": [],
   "source": [
    "#ejecutar un conjunto de acciones mientras sea cierta una condicion"
   ]
  },
  {
   "cell_type": "code",
   "execution_count": 3,
   "id": "93349479",
   "metadata": {},
   "outputs": [
    {
     "name": "stdout",
     "output_type": "stream",
     "text": [
      "1\n",
      "2\n",
      "3\n",
      "4\n",
      "5\n",
      "6\n",
      "7\n",
      "8\n",
      "9\n"
     ]
    }
   ],
   "source": [
    "valor = 1\n",
    "fin = 10\n",
    "while (valor < fin):\n",
    "    print(valor)\n",
    "    valor += 1"
   ]
  },
  {
   "cell_type": "code",
   "execution_count": 6,
   "id": "6ba3a414",
   "metadata": {},
   "outputs": [
    {
     "name": "stdout",
     "output_type": "stream",
     "text": [
      "1\n",
      "2\n",
      "3\n",
      "4\n"
     ]
    }
   ],
   "source": [
    "#detener el bucle con break\n",
    "valor = 1\n",
    "fin = 10\n",
    "while (valor < fin):\n",
    "    print(valor)\n",
    "    valor += 1\n",
    "    if( valor == 5):\n",
    "        break;    "
   ]
  },
  {
   "cell_type": "code",
   "execution_count": 4,
   "id": "48069fcd",
   "metadata": {},
   "outputs": [
    {
     "name": "stdout",
     "output_type": "stream",
     "text": [
      "2\n",
      "3\n",
      "4\n",
      "5\n",
      "7\n",
      "8\n",
      "9\n",
      "10\n"
     ]
    }
   ],
   "source": [
    "#detener la ejecución de una iteracion\n",
    "valor = 1\n",
    "fin = 10\n",
    "while (valor < fin):\n",
    "    valor += 1\n",
    "    if( valor == 6):\n",
    "        continue\n",
    "    print(valor)\n"
   ]
  },
  {
   "cell_type": "code",
   "execution_count": null,
   "id": "0b63815e",
   "metadata": {},
   "outputs": [],
   "source": []
  }
 ],
 "metadata": {
  "kernelspec": {
   "display_name": "Python 3",
   "language": "python",
   "name": "python3"
  },
  "language_info": {
   "codemirror_mode": {
    "name": "ipython",
    "version": 3
   },
   "file_extension": ".py",
   "mimetype": "text/x-python",
   "name": "python",
   "nbconvert_exporter": "python",
   "pygments_lexer": "ipython3",
   "version": "3.8.8"
  }
 },
 "nbformat": 4,
 "nbformat_minor": 5
}
