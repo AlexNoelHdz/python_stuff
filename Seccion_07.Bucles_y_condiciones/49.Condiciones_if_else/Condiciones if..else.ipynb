{
 "cells": [
  {
   "cell_type": "code",
   "execution_count": 1,
   "id": "8d6cafca",
   "metadata": {},
   "outputs": [],
   "source": [
    "#Condiciones if, elif, else"
   ]
  },
  {
   "cell_type": "code",
   "execution_count": 2,
   "id": "9fd8a59b",
   "metadata": {},
   "outputs": [],
   "source": [
    "a = 8\n",
    "b = 4"
   ]
  },
  {
   "cell_type": "code",
   "execution_count": 3,
   "id": "85ed13f4",
   "metadata": {},
   "outputs": [
    {
     "data": {
      "text/plain": [
       "True"
      ]
     },
     "execution_count": 3,
     "metadata": {},
     "output_type": "execute_result"
    }
   ],
   "source": [
    "a > b"
   ]
  },
  {
   "cell_type": "code",
   "execution_count": 4,
   "id": "933a73b5",
   "metadata": {},
   "outputs": [
    {
     "data": {
      "text/plain": [
       "False"
      ]
     },
     "execution_count": 4,
     "metadata": {},
     "output_type": "execute_result"
    }
   ],
   "source": [
    "a < b"
   ]
  },
  {
   "cell_type": "code",
   "execution_count": 5,
   "id": "892bad73",
   "metadata": {},
   "outputs": [
    {
     "name": "stdout",
     "output_type": "stream",
     "text": [
      "A es mayor que b\n"
     ]
    }
   ],
   "source": [
    "if(a > b):\n",
    "    print(\"A es mayor que b\")"
   ]
  },
  {
   "cell_type": "code",
   "execution_count": 6,
   "id": "01acad47",
   "metadata": {},
   "outputs": [
    {
     "name": "stdout",
     "output_type": "stream",
     "text": [
      "La expresion es correcta\n"
     ]
    }
   ],
   "source": [
    "a = 8\n",
    "b = 4\n",
    "c = 2\n",
    "d = 6\n",
    "if(a > c) and (b < d):\n",
    "    print(\"La expresion es correcta\")"
   ]
  },
  {
   "cell_type": "code",
   "execution_count": 7,
   "id": "53652621",
   "metadata": {},
   "outputs": [],
   "source": [
    "if(a > c) and (b > d):\n",
    "    print(\"La expresion es correcta\")"
   ]
  },
  {
   "cell_type": "code",
   "execution_count": 9,
   "id": "787aa703",
   "metadata": {},
   "outputs": [
    {
     "name": "stdout",
     "output_type": "stream",
     "text": [
      "La expresion es incorrecta\n"
     ]
    }
   ],
   "source": [
    "#else\n",
    "if(a > c) and (b > d):\n",
    "    print(\"La expresion es correcta\")\n",
    "else:\n",
    "    print(\"La expresion es incorrecta\")"
   ]
  },
  {
   "cell_type": "code",
   "execution_count": 19,
   "id": "09fc5127",
   "metadata": {},
   "outputs": [
    {
     "name": "stdout",
     "output_type": "stream",
     "text": [
      "A es igual a 8\n"
     ]
    }
   ],
   "source": [
    "#Elif tiene la ventaja de que se detiene cuando una validacion resulta cierta\n",
    "if(a == 9):\n",
    "    print(\"A es igual a 9\")\n",
    "elif(a == 7):\n",
    "    print(\"A es igual a 7\")\n",
    "elif(a == 8):\n",
    "    print(\"A es igual a 8\")\n",
    "elif(a == 8):\n",
    "    print(\"Llego al final\")\n",
    "else:\n",
    "    print(\"Llego al final y a no era 8\")"
   ]
  },
  {
   "cell_type": "code",
   "execution_count": 20,
   "id": "d03a6133",
   "metadata": {},
   "outputs": [
    {
     "name": "stdout",
     "output_type": "stream",
     "text": [
      "Llego al final y a no era 8\n"
     ]
    }
   ],
   "source": [
    "#Elif tiene la ventaja de que se detiene cuando una validacion resulta cierta\n",
    "a = 25\n",
    "if(a == 9):\n",
    "    print(\"A es igual a 9\")\n",
    "elif(a == 7):\n",
    "    print(\"A es igual a 7\")\n",
    "elif(a == 8):\n",
    "    print(\"A es igual a 8\")\n",
    "elif(a == 8):\n",
    "    print(\"Llego al final\")\n",
    "else:\n",
    "    print(\"Llego al final y a no era 8\")"
   ]
  },
  {
   "cell_type": "code",
   "execution_count": null,
   "id": "0a25fc5c",
   "metadata": {},
   "outputs": [],
   "source": []
  }
 ],
 "metadata": {
  "kernelspec": {
   "display_name": "Python 3",
   "language": "python",
   "name": "python3"
  },
  "language_info": {
   "codemirror_mode": {
    "name": "ipython",
    "version": 3
   },
   "file_extension": ".py",
   "mimetype": "text/x-python",
   "name": "python",
   "nbconvert_exporter": "python",
   "pygments_lexer": "ipython3",
   "version": "3.8.8"
  }
 },
 "nbformat": 4,
 "nbformat_minor": 5
}
