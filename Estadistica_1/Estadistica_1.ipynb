{
 "cells": [
  {
   "cell_type": "code",
   "execution_count": 4,
   "id": "07389456",
   "metadata": {},
   "outputs": [],
   "source": [
    "import pandas as pd\n",
    "import numpy as np\n",
    "import seaborn as sns"
   ]
  },
  {
   "cell_type": "code",
   "execution_count": 6,
   "id": "d1f6954f",
   "metadata": {},
   "outputs": [
    {
     "name": "stdout",
     "output_type": "stream",
     "text": [
      "<class 'pandas.core.frame.DataFrame'>\n",
      "RangeIndex: 138 entries, 0 to 137\n",
      "Data columns (total 10 columns):\n",
      " #   Column             Non-Null Count  Dtype  \n",
      "---  ------             --------------  -----  \n",
      " 0   country            138 non-null    object \n",
      " 1   happiness_score    138 non-null    float64\n",
      " 2   gdp_per_capita     138 non-null    float64\n",
      " 3   social_support     138 non-null    float64\n",
      " 4   health             138 non-null    float64\n",
      " 5   freedom            138 non-null    float64\n",
      " 6   generosity         138 non-null    float64\n",
      " 7   government_trust   138 non-null    float64\n",
      " 8   dystopia_residual  138 non-null    float64\n",
      " 9   continent          138 non-null    object \n",
      "dtypes: float64(8), object(2)\n",
      "memory usage: 10.9+ KB\n",
      "Index(['country', 'happiness_score', 'gdp_per_capita', 'social_support',\n",
      "       'health', 'freedom', 'generosity', 'government_trust',\n",
      "       'dystopia_residual', 'continent'],\n",
      "      dtype='object')\n"
     ]
    }
   ],
   "source": [
    "#%% Cargar datos\n",
    "data = pd.read_csv('2020_report.csv')\n",
    "data.info()\n",
    "print(data.columns)"
   ]
  },
  {
   "cell_type": "code",
   "execution_count": null,
   "id": "1de7a7df",
   "metadata": {},
   "outputs": [],
   "source": []
  }
 ],
 "metadata": {
  "kernelspec": {
   "display_name": "Python 3",
   "language": "python",
   "name": "python3"
  },
  "language_info": {
   "codemirror_mode": {
    "name": "ipython",
    "version": 3
   },
   "file_extension": ".py",
   "mimetype": "text/x-python",
   "name": "python",
   "nbconvert_exporter": "python",
   "pygments_lexer": "ipython3",
   "version": "3.8.8"
  }
 },
 "nbformat": 4,
 "nbformat_minor": 5
}
