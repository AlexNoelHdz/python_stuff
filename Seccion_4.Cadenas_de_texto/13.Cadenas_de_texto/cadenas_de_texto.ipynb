{
 "cells": [
  {
   "cell_type": "code",
   "execution_count": 18,
   "id": "60631563",
   "metadata": {},
   "outputs": [],
   "source": [
    "cadena = \"Hola mundo\""
   ]
  },
  {
   "cell_type": "code",
   "execution_count": 9,
   "id": "e9dfb5ba",
   "metadata": {},
   "outputs": [
    {
     "data": {
      "text/plain": [
       "'Hola mundo'"
      ]
     },
     "execution_count": 9,
     "metadata": {},
     "output_type": "execute_result"
    }
   ],
   "source": [
    "cadena"
   ]
  },
  {
   "cell_type": "code",
   "execution_count": 10,
   "id": "1df0599f",
   "metadata": {},
   "outputs": [],
   "source": [
    "#H o l a   m u n d o\n",
    "#0 1 2 3 4 5 6 7 8 9"
   ]
  },
  {
   "cell_type": "code",
   "execution_count": 11,
   "id": "3b68ec01",
   "metadata": {},
   "outputs": [
    {
     "data": {
      "text/plain": [
       "'m'"
      ]
     },
     "execution_count": 11,
     "metadata": {},
     "output_type": "execute_result"
    }
   ],
   "source": [
    "cadena[5]"
   ]
  },
  {
   "cell_type": "code",
   "execution_count": 12,
   "id": "4e350541",
   "metadata": {},
   "outputs": [],
   "source": [
    "#Recorrido inverso\n",
    "#  H  o  l  a     m  u  n  d  o\n",
    "#-10 -9 -8 -7 -6 -5 -4 -3 -2 -1"
   ]
  },
  {
   "cell_type": "code",
   "execution_count": 13,
   "id": "b1143ebe",
   "metadata": {},
   "outputs": [
    {
     "data": {
      "text/plain": [
       "'o'"
      ]
     },
     "execution_count": 13,
     "metadata": {},
     "output_type": "execute_result"
    }
   ],
   "source": [
    "cadena[-1]"
   ]
  },
  {
   "cell_type": "code",
   "execution_count": 14,
   "id": "243b4400",
   "metadata": {},
   "outputs": [
    {
     "data": {
      "text/plain": [
       "'H'"
      ]
     },
     "execution_count": 14,
     "metadata": {},
     "output_type": "execute_result"
    }
   ],
   "source": [
    "cadena[-10]"
   ]
  },
  {
   "cell_type": "code",
   "execution_count": 25,
   "id": "54a0f190",
   "metadata": {},
   "outputs": [
    {
     "data": {
      "text/plain": [
       "'a mun'"
      ]
     },
     "execution_count": 25,
     "metadata": {},
     "output_type": "execute_result"
    }
   ],
   "source": [
    "#partes de una cadena\n",
    "#cadena[posicion_inicial, #Posicion_final(sin incluirla)]\n",
    "#H o l a   m u n d o\n",
    "#0 1 2 3 4 5 6 7 8 9\n",
    "cadena[3:8]"
   ]
  },
  {
   "cell_type": "code",
   "execution_count": 26,
   "id": "2751bc28",
   "metadata": {},
   "outputs": [
    {
     "data": {
      "text/plain": [
       "'la mu'"
      ]
     },
     "execution_count": 26,
     "metadata": {},
     "output_type": "execute_result"
    }
   ],
   "source": [
    "#partes de una cadena\n",
    "#cadena[posicion_inicial, #Posicion_final(sin incluirla)]\n",
    "#  H  o  l  a     m  u  n  d  o\n",
    "#-10 -9 -8 -7 -6 -5 -4 -3 -2 -1\n",
    "cadena[-8:-3]"
   ]
  },
  {
   "cell_type": "code",
   "execution_count": 27,
   "id": "a983b516",
   "metadata": {},
   "outputs": [
    {
     "data": {
      "text/plain": [
       "'a mundo'"
      ]
     },
     "execution_count": 27,
     "metadata": {},
     "output_type": "execute_result"
    }
   ],
   "source": [
    "#partes de una cadena, omitir final\n",
    "#cadena[posicion_inicial, #Posicion_final(sin incluirla)]\n",
    "#H o l a   m u n d o\n",
    "#0 1 2 3 4 5 6 7 8 9\n",
    "cadena[3:]"
   ]
  },
  {
   "cell_type": "code",
   "execution_count": 28,
   "id": "981cbdd8",
   "metadata": {},
   "outputs": [
    {
     "data": {
      "text/plain": [
       "'Hola m'"
      ]
     },
     "execution_count": 28,
     "metadata": {},
     "output_type": "execute_result"
    }
   ],
   "source": [
    "#partes de una cadena, omitir incio\n",
    "#cadena[posicion_inicial, #Posicion_final(sin incluirla)]\n",
    "#H o l a   m u n d o\n",
    "#0 1 2 3 4 5 6 7 8 9\n",
    "cadena[:6]"
   ]
  },
  {
   "cell_type": "code",
   "execution_count": 30,
   "id": "81524dd6",
   "metadata": {},
   "outputs": [
    {
     "ename": "TypeError",
     "evalue": "'str' object does not support item assignment",
     "output_type": "error",
     "traceback": [
      "\u001b[1;31m---------------------------------------------------------------------------\u001b[0m",
      "\u001b[1;31mTypeError\u001b[0m                                 Traceback (most recent call last)",
      "\u001b[1;32m<ipython-input-30-0b455cfe9bb7>\u001b[0m in \u001b[0;36m<module>\u001b[1;34m\u001b[0m\n\u001b[0;32m      1\u001b[0m \u001b[1;31m#string es inmutable (no se puede modificar una posición)\u001b[0m\u001b[1;33m\u001b[0m\u001b[1;33m\u001b[0m\u001b[1;33m\u001b[0m\u001b[0m\n\u001b[1;32m----> 2\u001b[1;33m \u001b[0mcadena\u001b[0m\u001b[1;33m[\u001b[0m\u001b[1;36m5\u001b[0m\u001b[1;33m]\u001b[0m \u001b[1;33m=\u001b[0m \u001b[1;34m'4'\u001b[0m\u001b[1;33m\u001b[0m\u001b[1;33m\u001b[0m\u001b[0m\n\u001b[0m",
      "\u001b[1;31mTypeError\u001b[0m: 'str' object does not support item assignment"
     ]
    }
   ],
   "source": [
    "#string es inmutable (no se puede modificar una posición)\n",
    "cadena[5] = '4'"
   ]
  },
  {
   "cell_type": "code",
   "execution_count": 31,
   "id": "c40ab5d0",
   "metadata": {},
   "outputs": [
    {
     "data": {
      "text/plain": [
       "'m'"
      ]
     },
     "execution_count": 31,
     "metadata": {},
     "output_type": "execute_result"
    }
   ],
   "source": [
    "cadena[5]"
   ]
  },
  {
   "cell_type": "code",
   "execution_count": 32,
   "id": "7afc4c6a",
   "metadata": {},
   "outputs": [
    {
     "data": {
      "text/plain": [
       "'Hola mundo'"
      ]
     },
     "execution_count": 32,
     "metadata": {},
     "output_type": "execute_result"
    }
   ],
   "source": [
    "cadena1 = \"Hola\"\n",
    "cadena2 = \" \"\n",
    "cadena3 = \"mundo\"\n",
    "cadena = cadena1 + cadena2 + cadena3\n",
    "cadena"
   ]
  },
  {
   "cell_type": "code",
   "execution_count": null,
   "id": "64cbde0d",
   "metadata": {},
   "outputs": [],
   "source": []
  }
 ],
 "metadata": {
  "kernelspec": {
   "display_name": "Python 3",
   "language": "python",
   "name": "python3"
  },
  "language_info": {
   "codemirror_mode": {
    "name": "ipython",
    "version": 3
   },
   "file_extension": ".py",
   "mimetype": "text/x-python",
   "name": "python",
   "nbconvert_exporter": "python",
   "pygments_lexer": "ipython3",
   "version": "3.8.8"
  }
 },
 "nbformat": 4,
 "nbformat_minor": 5
}
