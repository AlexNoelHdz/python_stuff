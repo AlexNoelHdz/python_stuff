{
 "cells": [
  {
   "cell_type": "code",
   "execution_count": 3,
   "id": "f95e4a65",
   "metadata": {},
   "outputs": [
    {
     "name": "stdout",
     "output_type": "stream",
     "text": [
      "31.5\n"
     ]
    }
   ],
   "source": [
    "def operacion(funcion, val1 = 0, val2 = 0):\n",
    "    return funcion(val1, val2)\n",
    "\n",
    "def operacion_suma(val1 = 0, val2 = 0):\n",
    "    return val1 + val2\n",
    "\n",
    "def funcion_suma(val1 = 0, val2 = 0):\n",
    "    return operacion(operacion_suma,val1, val2)\n",
    "\n",
    "leche_lala = 15\n",
    "leche_sello_rojo = 16.50\n",
    "resultado = funcion_suma(leche_lala,leche_sello_rojo)\n",
    "print(resultado)"
   ]
  },
  {
   "cell_type": "code",
   "execution_count": 6,
   "id": "c6b12587",
   "metadata": {},
   "outputs": [
    {
     "name": "stdout",
     "output_type": "stream",
     "text": [
      "30\n",
      "200\n"
     ]
    }
   ],
   "source": [
    "#Ejemplo con operadores\n",
    "\n",
    "def crear_funcion(operador):\n",
    "    if operador == '+':\n",
    "        def suma(val1=0, val2=0):\n",
    "            return val1 + val2\n",
    "        return suma\n",
    "    if operador == '*':\n",
    "        def multiplicacion(val1=0, val2=0):\n",
    "            return val1 * val2\n",
    "        return multiplicacion\n",
    "\n",
    "def operacion(funcion, val1=0, val2=0):\n",
    "    return funcion(val1, val2)\n",
    "\n",
    "funcion_suma = crear_funcion('+')\n",
    "resultado = operacion(funcion_suma, 10, 20)\n",
    "print(resultado)\n",
    "\n",
    "funcion_multiplicacion = crear_funcion('*')\n",
    "resultado = operacion(funcion_multiplicacion, 10, 20)\n",
    "print(resultado)"
   ]
  },
  {
   "cell_type": "code",
   "execution_count": 9,
   "id": "8fe660f4",
   "metadata": {},
   "outputs": [
    {
     "name": "stdout",
     "output_type": "stream",
     "text": [
      "30\n"
     ]
    }
   ],
   "source": [
    "#Funcion lambda o anonima (no posee nombre)\n",
    "suma = lambda val1=0, val2=0: val1 + val2\n",
    "\n",
    "resultado = suma(10, 20)\n",
    "\n",
    "print(resultado)"
   ]
  },
  {
   "cell_type": "code",
   "execution_count": 11,
   "id": "86e32b9c",
   "metadata": {},
   "outputs": [
    {
     "name": "stdout",
     "output_type": "stream",
     "text": [
      "30\n"
     ]
    }
   ],
   "source": [
    "#Mismo ejemplo con programación funcional\n",
    "suma = lambda val1=0, val2=0: val1 + val2\n",
    "operacion = lambda operacion, val1=0, val2=0 : operacion(val1, val2)\n",
    "\n",
    "resultado = operacion(suma, 10, 20)\n",
    "\n",
    "print(resultado)"
   ]
  },
  {
   "cell_type": "code",
   "execution_count": null,
   "id": "8c4d003b",
   "metadata": {},
   "outputs": [],
   "source": []
  }
 ],
 "metadata": {
  "kernelspec": {
   "display_name": "Python 3",
   "language": "python",
   "name": "python3"
  },
  "language_info": {
   "codemirror_mode": {
    "name": "ipython",
    "version": 3
   },
   "file_extension": ".py",
   "mimetype": "text/x-python",
   "name": "python",
   "nbconvert_exporter": "python",
   "pygments_lexer": "ipython3",
   "version": "3.8.8"
  }
 },
 "nbformat": 4,
 "nbformat_minor": 5
}
