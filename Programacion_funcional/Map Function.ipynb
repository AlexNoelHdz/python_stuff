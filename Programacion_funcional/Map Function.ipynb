{
 "cells": [
  {
   "cell_type": "code",
   "execution_count": 1,
   "id": "ed56c111",
   "metadata": {},
   "outputs": [],
   "source": [
    "#La función map nos permite aplicar una función sobre cada uno de los elementos de un colección (Listas, tuplas, etc...).\n",
    "#map(función a aplicar, objeto iterable)"
   ]
  },
  {
   "cell_type": "code",
   "execution_count": 11,
   "id": "a006f59c",
   "metadata": {},
   "outputs": [
    {
     "name": "stdout",
     "output_type": "stream",
     "text": [
      "[1, 4, 9, 16, 25, 36, 49, 64, 81, 100]\n"
     ]
    }
   ],
   "source": [
    "#Ejemplo, el cuadrado de algunos elementos\n",
    "def cuadrado(elemento = 0):\n",
    "    return elemento * elemento\n",
    "\n",
    "lista_numeros = [1,2,3,4,5,6,7,8,9,10]\n",
    "\n",
    "#recuerda convertir a list\n",
    "lista_cuadrados = list(map(cuadrado, lista_numeros))\n",
    "\n",
    "print(lista_cuadrados)"
   ]
  },
  {
   "cell_type": "code",
   "execution_count": 12,
   "id": "848b9a56",
   "metadata": {},
   "outputs": [
    {
     "name": "stdout",
     "output_type": "stream",
     "text": [
      "[1, 4, 9, 16, 25, 36, 49, 64, 81, 100]\n"
     ]
    }
   ],
   "source": [
    "#Lambda functions\n",
    "lista_numeros = [1,2,3,4,5,6,7,8,9,10]\n",
    "\n",
    "#recuerda convertir a list\n",
    "lista_cuadrados = list(map(lambda elemento : elemento * elemento , lista_numeros))\n",
    "\n",
    "print(lista_cuadrados)"
   ]
  },
  {
   "cell_type": "code",
   "execution_count": null,
   "id": "2cb82080",
   "metadata": {},
   "outputs": [],
   "source": []
  }
 ],
 "metadata": {
  "kernelspec": {
   "display_name": "Python 3",
   "language": "python",
   "name": "python3"
  },
  "language_info": {
   "codemirror_mode": {
    "name": "ipython",
    "version": 3
   },
   "file_extension": ".py",
   "mimetype": "text/x-python",
   "name": "python",
   "nbconvert_exporter": "python",
   "pygments_lexer": "ipython3",
   "version": "3.8.8"
  }
 },
 "nbformat": 4,
 "nbformat_minor": 5
}
