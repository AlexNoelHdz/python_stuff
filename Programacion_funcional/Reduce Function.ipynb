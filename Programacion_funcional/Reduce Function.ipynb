{
 "cells": [
  {
   "cell_type": "code",
   "execution_count": 1,
   "id": "17280966",
   "metadata": {},
   "outputs": [],
   "source": [
    "#Reduce permite reducir una colección a un valor \n",
    "#string mediante una iteración de sus elementos y la aplicación de una función. \n",
    "#posee un acumulador y el valor en si mismo"
   ]
  },
  {
   "cell_type": "code",
   "execution_count": 2,
   "id": "a96757a4",
   "metadata": {},
   "outputs": [
    {
     "name": "stdout",
     "output_type": "stream",
     "text": [
      "10\n"
     ]
    }
   ],
   "source": [
    "#Obtener la suma de todos los elementos en la lista\n",
    "\n",
    "lista = [1,2,3,4]\n",
    "acumulador = 0;\n",
    "\n",
    "for elemento in lista:\n",
    "    acumulador += elemento\n",
    "\n",
    "print(acumulador)"
   ]
  },
  {
   "cell_type": "code",
   "execution_count": 3,
   "id": "d835710c",
   "metadata": {},
   "outputs": [
    {
     "name": "stdout",
     "output_type": "stream",
     "text": [
      "10\n"
     ]
    }
   ],
   "source": [
    "from functools import reduce\n",
    "\n",
    "lista = [1,2,3,4]\n",
    "\n",
    "def funcion_acumulador(acumulador=0, elemento=0):\n",
    "    return acumulador + elemento\n",
    "\n",
    "resultado = reduce(funcion_acumulador, lista)\n",
    "print(resultado)"
   ]
  },
  {
   "cell_type": "code",
   "execution_count": 4,
   "id": "a36f5305",
   "metadata": {},
   "outputs": [
    {
     "name": "stdout",
     "output_type": "stream",
     "text": [
      "10\n"
     ]
    }
   ],
   "source": [
    "#lambda reduce\n",
    "lista = [1,2,3,4]\n",
    "resultado = reduce(lambda acum, current : acum + current, lista)\n",
    "print(resultado)"
   ]
  },
  {
   "cell_type": "code",
   "execution_count": 5,
   "id": "18d305b7",
   "metadata": {},
   "outputs": [
    {
     "name": "stdout",
     "output_type": "stream",
     "text": [
      "Python - Java - Ruby - Elixir\n"
     ]
    }
   ],
   "source": [
    "#Concatenar todos los elementos de la lista\n",
    "from functools import reduce\n",
    "\n",
    "lista = ['Python', 'Java', 'Ruby', 'Elixir']\n",
    "resultado = reduce(lambda acumulador='', elemento='': acumulador + \" - \" + elemento, lista)\n",
    "\n",
    "print(resultado)"
   ]
  },
  {
   "cell_type": "code",
   "execution_count": 6,
   "id": "e3adbdc8",
   "metadata": {},
   "outputs": [
    {
     "data": {
      "text/plain": [
       "str"
      ]
     },
     "execution_count": 6,
     "metadata": {},
     "output_type": "execute_result"
    }
   ],
   "source": [
    "type(resultado)"
   ]
  },
  {
   "cell_type": "code",
   "execution_count": null,
   "id": "5fbbbfee",
   "metadata": {},
   "outputs": [],
   "source": []
  }
 ],
 "metadata": {
  "kernelspec": {
   "display_name": "Python 3",
   "language": "python",
   "name": "python3"
  },
  "language_info": {
   "codemirror_mode": {
    "name": "ipython",
    "version": 3
   },
   "file_extension": ".py",
   "mimetype": "text/x-python",
   "name": "python",
   "nbconvert_exporter": "python",
   "pygments_lexer": "ipython3",
   "version": "3.8.8"
  }
 },
 "nbformat": 4,
 "nbformat_minor": 5
}
