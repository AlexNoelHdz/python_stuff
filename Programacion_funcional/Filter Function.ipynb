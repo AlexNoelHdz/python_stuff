{
 "cells": [
  {
   "cell_type": "code",
   "execution_count": 1,
   "id": "42bb2f25",
   "metadata": {},
   "outputs": [],
   "source": [
    "#permite realizar un filtro sobre los elementos de la colección.\n",
    "#filter(función a aplicar, objeto iterable)"
   ]
  },
  {
   "cell_type": "code",
   "execution_count": 4,
   "id": "5317f76a",
   "metadata": {},
   "outputs": [
    {
     "name": "stdout",
     "output_type": "stream",
     "text": [
      "(6, 7, 8, 10, 77, 55, 30, 30)\n",
      "8\n"
     ]
    }
   ],
   "source": [
    "#Obtener la cantidad de elementos mayores a 5 en la tupla. Con funciones\n",
    "#Recordar convertir a tuple()\n",
    "\n",
    "def mayor_a_cinco(elemento):\n",
    "    return elemento > 5\n",
    "\n",
    "tupla = (5,2,6,7,8,10,77,55,2,1,30,4,2,3,5,30)\n",
    "resultado = tuple(filter( mayor_a_cinco, tupla))\n",
    "print(resultado)\n",
    "resultado = len(resultado)\n",
    "print(resultado)"
   ]
  },
  {
   "cell_type": "code",
   "execution_count": 7,
   "id": "a6dca512",
   "metadata": {},
   "outputs": [
    {
     "name": "stdout",
     "output_type": "stream",
     "text": [
      "8\n"
     ]
    }
   ],
   "source": [
    "#Lambda Funcion. Cantidad de elementos mayores a 5\n",
    "tupla = (5,2,6,7,8,10,77,55,2,1,30,4,2,3,5,30)\n",
    "resultado = len(tuple(filter( lambda i : i > 5, tupla)))\n",
    "print(resultado)"
   ]
  },
  {
   "cell_type": "code",
   "execution_count": null,
   "id": "6dd0ec36",
   "metadata": {},
   "outputs": [],
   "source": []
  }
 ],
 "metadata": {
  "kernelspec": {
   "display_name": "Python 3",
   "language": "python",
   "name": "python3"
  },
  "language_info": {
   "codemirror_mode": {
    "name": "ipython",
    "version": 3
   },
   "file_extension": ".py",
   "mimetype": "text/x-python",
   "name": "python",
   "nbconvert_exporter": "python",
   "pygments_lexer": "ipython3",
   "version": "3.8.8"
  }
 },
 "nbformat": 4,
 "nbformat_minor": 5
}
