{
 "cells": [
  {
   "cell_type": "code",
   "execution_count": 1,
   "id": "1649cba1",
   "metadata": {},
   "outputs": [],
   "source": [
    "#Clases y objetos. POO.\n",
    "class ClaseSilla:\n",
    "    color = \"blanco\"\n",
    "    precio = 100"
   ]
  },
  {
   "cell_type": "code",
   "execution_count": 2,
   "id": "4a50931e",
   "metadata": {},
   "outputs": [],
   "source": [
    "objeto_silla_1 = ClaseSilla()"
   ]
  },
  {
   "cell_type": "code",
   "execution_count": 3,
   "id": "df9922e9",
   "metadata": {},
   "outputs": [
    {
     "data": {
      "text/plain": [
       "'blanco'"
      ]
     },
     "execution_count": 3,
     "metadata": {},
     "output_type": "execute_result"
    }
   ],
   "source": [
    "objeto_silla_1.color"
   ]
  },
  {
   "cell_type": "code",
   "execution_count": 4,
   "id": "83095939",
   "metadata": {},
   "outputs": [],
   "source": [
    "objeto_silla_1.color = \"negro\""
   ]
  },
  {
   "cell_type": "code",
   "execution_count": 5,
   "id": "1ee9af32",
   "metadata": {},
   "outputs": [
    {
     "data": {
      "text/plain": [
       "'negro'"
      ]
     },
     "execution_count": 5,
     "metadata": {},
     "output_type": "execute_result"
    }
   ],
   "source": [
    "objeto_silla_1.color"
   ]
  },
  {
   "cell_type": "code",
   "execution_count": 8,
   "id": "7d425385",
   "metadata": {},
   "outputs": [],
   "source": [
    "objeto_silla_2 = ClaseSilla()\n",
    "objeto_silla_2.color = \"verde\"\n",
    "objeto_silla_2.precio = 120"
   ]
  },
  {
   "cell_type": "code",
   "execution_count": 9,
   "id": "8393d76f",
   "metadata": {},
   "outputs": [
    {
     "data": {
      "text/plain": [
       "120"
      ]
     },
     "execution_count": 9,
     "metadata": {},
     "output_type": "execute_result"
    }
   ],
   "source": [
    "objeto_silla_2.precio"
   ]
  },
  {
   "cell_type": "code",
   "execution_count": 29,
   "id": "37a02e6b",
   "metadata": {},
   "outputs": [],
   "source": [
    "class Persona:\n",
    "    def __init__(self, nombre, edad):\n",
    "        self.nombre = nombre\n",
    "        self.edad = edad\n",
    "    \n",
    "    def saludar(self):\n",
    "        print(\"Hola, me llamo {0} y tengo {1} años\".format(self.nombre, self.edad))"
   ]
  },
  {
   "cell_type": "code",
   "execution_count": 30,
   "id": "3cb369bc",
   "metadata": {},
   "outputs": [],
   "source": [
    "objeto_persona1 = Persona(\"Juan\", 37)"
   ]
  },
  {
   "cell_type": "code",
   "execution_count": 31,
   "id": "50b1b633",
   "metadata": {},
   "outputs": [
    {
     "name": "stdout",
     "output_type": "stream",
     "text": [
      "Hola, me llamo Juan y tengo 37 años\n"
     ]
    }
   ],
   "source": [
    "objeto_persona1.saludar()"
   ]
  }
 ],
 "metadata": {
  "kernelspec": {
   "display_name": "Python 3",
   "language": "python",
   "name": "python3"
  },
  "language_info": {
   "codemirror_mode": {
    "name": "ipython",
    "version": 3
   },
   "file_extension": ".py",
   "mimetype": "text/x-python",
   "name": "python",
   "nbconvert_exporter": "python",
   "pygments_lexer": "ipython3",
   "version": "3.8.8"
  }
 },
 "nbformat": 4,
 "nbformat_minor": 5
}
